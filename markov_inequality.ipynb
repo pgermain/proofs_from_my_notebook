{
 "cells": [
  {
   "cell_type": "code",
   "execution_count": 1,
   "metadata": {
    "collapsed": false
   },
   "outputs": [
    {
     "data": {
      "text/html": [
       "<script>\n",
       "code_show=true; \n",
       "function code_toggle() {\n",
       " if (code_show){\n",
       " $('div.input').hide();\n",
       " } else {\n",
       " $('div.input').show();\n",
       " }\n",
       " code_show = !code_show\n",
       "} \n",
       "$( document ).ready(code_toggle);\n",
       "</script>\n",
       "The page has been generated with IPython notebook (Jupyter).\n",
       "Click <a href=\"javascript:code_toggle()\">here</a> to show/hide the python code."
      ],
      "text/plain": [
       "<IPython.core.display.HTML object>"
      ]
     },
     "execution_count": 1,
     "metadata": {},
     "output_type": "execute_result"
    }
   ],
   "source": [
    "from IPython.display import HTML\n",
    "HTML('''<script>\n",
    "code_show=true; \n",
    "function code_toggle() {\n",
    " if (code_show){\n",
    " $('div.input').hide();\n",
    " } else {\n",
    " $('div.input').show();\n",
    " }\n",
    " code_show = !code_show\n",
    "} \n",
    "$( document ).ready(code_toggle);\n",
    "</script>\n",
    "The page has been generated with IPython notebook (Jupyter).\n",
    "Click <a href=\"javascript:code_toggle()\">here</a> to show/hide the python code.''')\n",
    " "
   ]
  },
  {
   "cell_type": "markdown",
   "metadata": {},
   "source": [
    "# Markov's Inequality"
   ]
  },
  {
   "cell_type": "markdown",
   "metadata": {},
   "source": [
    "** Theorem.** Let $X$ be a nonnegative random variable. For any constant $a>0$, we have\n",
    "\n",
    "$$\\mathbf{Pr} \\left(X \\geq a \\right) \\, \\leq \\ \\frac{\\mathbf{E}\\, X}{a}\\,.$$\n",
    "\n",
    "-----\n",
    "***Proof.*** Let define a function \n",
    "\\begin{equation} \n",
    "\\qquad f_a(x) \\ =\\ a \\,\\mathbf{I} \\left[x\\geq a\\right] \\, :=\\ \\begin{cases} a & \\mbox{if } x \\geq a \\\\ 0 & \\mbox{otherwise.}\\end{cases}\n",
    "\\end{equation}\n"
   ]
  },
  {
   "cell_type": "markdown",
   "metadata": {},
   "source": [
    "For all $x \\geq 0$, we have \n",
    "\\begin{equation} \\label{eq:star}\n",
    "x \\ \\geq \\ f_a(x)\\,. \\tag{$\\star$}\n",
    "\\end{equation}"
   ]
  },
  {
   "cell_type": "code",
   "execution_count": 2,
   "metadata": {
    "collapsed": false,
    "scrolled": false,
    "slideshow": {
     "slide_type": "skip"
    }
   },
   "outputs": [
    {
     "data": {
      "image/png": "[encoded data removed]",
      "text/plain": [
       "<matplotlib.figure.Figure at 0x10eed7320>"
      ]
     },
     "metadata": {},
     "output_type": "display_data"
    }
   ],
   "source": [
    "%matplotlib inline \n",
    "from matplotlib import pyplot as plt \n",
    "\n",
    "# main plot commands\n",
    "a, upper = 2, 6 # arbitrary choices\n",
    "f_a = lambda x: a if x >= a else 0 \n",
    "x_values = [0, a-.0001, a+.0001, upper]\n",
    "plt.plot(x_values, x_values, label='$x$')\n",
    "plt.plot(x_values, [f_a(x) for x in x_values], label='$f_a(x)$')\n",
    "\n",
    "# plot formating \n",
    "ticks = list(range(upper))\n",
    "ticks_labels = ['$a$' if i == a  else '' for i in ticks]\n",
    "plt.xticks(ticks, ticks_labels)\n",
    "plt.yticks(ticks, ticks_labels)\n",
    "plt.legend(fontsize='xx-large')\n",
    "plt.title('Illustration of Inequality $({\\star})$')\n",
    "plt.show()"
   ]
  },
  {
   "cell_type": "markdown",
   "metadata": {},
   "source": [
    "Let $X$ be a nonnegative random variable. By taking the expectation from both sides of Equation \\eqref{eq:star}, we obtain\n",
    "\n",
    "\\begin{eqnarray}\n",
    "\\mathbf{E} \\,X \\ \n",
    "&\\geq&  \\mathbf{E}\\,f_a(X) \\\\[1mm]\n",
    "& = & \\mathbf{E}\\,a\\,\\mathbf{I} \\left[X\\geq a\\right] \\\\[1mm]\n",
    "& = & a \\, \\mathbf{Pr} \\left(X \\geq a \\right).\n",
    "\\end{eqnarray}"
   ]
  },
  {
   "cell_type": "markdown",
   "metadata": {},
   "source": [
    "Then, by dividing by $a$, we obtain\n",
    "\n",
    "$$\\dfrac{\\mathbf{E}\\, X}{a} \\ \\geq \\ \\mathbf{Pr} \\left(X \\geq a \\right).$$"
   ]
  },
  {
   "cell_type": "markdown",
   "metadata": {},
   "source": [
    "**QED**"
   ]
  },
  {
   "cell_type": "code",
   "execution_count": null,
   "metadata": {
    "collapsed": true
   },
   "outputs": [],
   "source": []
  }
 ],
 "metadata": {
  "kernelspec": {
   "display_name": "Python 3",
   "language": "python",
   "name": "python3"
  },
  "language_info": {
   "codemirror_mode": {
    "name": "ipython",
    "version": 3
   },
   "file_extension": ".py",
   "mimetype": "text/x-python",
   "name": "python",
   "nbconvert_exporter": "python",
   "pygments_lexer": "ipython3",
   "version": "3.5.1"
  }
 },
 "nbformat": 4,
 "nbformat_minor": 0
}
